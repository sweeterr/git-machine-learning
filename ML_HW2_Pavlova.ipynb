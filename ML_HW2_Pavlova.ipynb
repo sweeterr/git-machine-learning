{
 "cells": [
  {
   "cell_type": "markdown",
   "metadata": {},
   "source": [
    "# 1\n",
    "Проверить, сбалансирован ли датасет (может быть, наблюдений одного класса слишком много?). Какие результаты покажет dummy classifier, который будет всем новым наблюдениям присваивать класс ham? Насколько плохо такое решение для задачи определения спама?\n",
    "Грубое решение - включить в training set только необходимое число наблюдений (примерно поровну spam и ham). "
   ]
  },
  {
   "cell_type": "code",
   "execution_count": 24,
   "metadata": {
    "collapsed": false
   },
   "outputs": [],
   "source": [
    "import numpy as np\n",
    "import pandas\n",
    "from sklearn.tree import DecisionTreeClassifier\n",
    "import matplotlib.pyplot as plt\n",
    "from sklearn.ensemble import RandomForestClassifier\n",
    "from sklearn.model_selection import train_test_split, KFold, cross_val_score\n",
    "from sklearn.metrics import classification_report, f1_score\n",
    "import matplotlib\n",
    "import seaborn as sns\n",
    "matplotlib.style.use('ggplot')"
   ]
  },
  {
   "cell_type": "code",
   "execution_count": 25,
   "metadata": {
    "collapsed": false
   },
   "outputs": [
    {
     "name": "stdout",
     "output_type": "stream",
     "text": [
      "  label                                            message\n",
      "0   ham  Go until jurong point, crazy.. Available only ...\n",
      "1   ham                      Ok lar... Joking wif u oni...\n",
      "2  spam  Free entry in 2 a wkly comp to win FA Cup fina...\n",
      "3   ham  U dun say so early hor... U c already then say...\n",
      "4   ham  Nah I don't think he goes to usf, he lives aro...\n",
      "                                                        message\n",
      "label                                                          \n",
      "ham   count                                                4825\n",
      "      unique                                               4516\n",
      "      top                                Sorry, I'll call later\n",
      "      freq                                                   30\n",
      "spam  count                                                 747\n",
      "      unique                                                653\n",
      "      top     Please call our customer service representativ...\n",
      "      freq                                                    4\n"
     ]
    }
   ],
   "source": [
    "path = 'smsspamcollection/SMSSpamCollection'\n",
    "\n",
    "messages = pandas.read_csv(path, sep='\\t',\n",
    "                           names=[\"label\", \"message\"])\n",
    "print(messages.head())\n",
    "print(messages.groupby('label').describe())"
   ]
  },
  {
   "cell_type": "code",
   "execution_count": 26,
   "metadata": {
    "collapsed": false
   },
   "outputs": [
    {
     "data": {
      "image/png": "[encoded data removed]",
      "text/plain": [
       "<matplotlib.figure.Figure at 0x10b26b7f0>"
      ]
     },
     "metadata": {},
     "output_type": "display_data"
    }
   ],
   "source": [
    "messages.groupby('label').size().plot(kind='bar')\n",
    "plt.show()"
   ]
  },
  {
   "cell_type": "markdown",
   "metadata": {},
   "source": [
    "Сообщений, размеченных как спам, 747 – гораздо меньше, чем неспамовых сообщений. Соотношение в выборке - 747/4825, то есть спама всего 15,5%. Выборка не сбалансирована. Самый простой классификатор, который все сообщения будет тправлять в неспам, покажет точность = 4825 / (747 + 4825) = 87%. У меня ни один классификатор, кажется, такую хорошую точность не показывал. Полнота с точки зрения спама при этом будет 0, то есть спам не будет выявляться вообще. Такой классификатор бесполезен.\n",
    "\n",
    "Сбалансируем выборку. Наберем в новый датасет по 747 спама и хама."
   ]
  },
  {
   "cell_type": "code",
   "execution_count": 27,
   "metadata": {
    "collapsed": false
   },
   "outputs": [
    {
     "name": "stdout",
     "output_type": "stream",
     "text": [
      "     label                                            message\n",
      "5079  spam  Do you want a New Nokia 3510i colour phone Del...\n",
      "625    ham  Nah it's straight, if you can just bring bud o...\n",
      "257    ham        Mmm so yummy babe ... Nice jolt to the suzy\n",
      "579   spam  our mobile number has won £5000, to claim call...\n",
      "1137  spam  Dont forget you can place as many FREE Request...\n",
      "       label                 message\n",
      "count   1494                    1494\n",
      "unique     2                    1383\n",
      "top      ham  Sorry, I'll call later\n",
      "freq     747                       6\n"
     ]
    }
   ],
   "source": [
    "import sklearn.utils\n",
    "\n",
    "\n",
    "spam = messages.loc[messages['label']=='spam']\n",
    "ham = messages.loc[messages['label']=='ham'][:747]\n",
    "df = sklearn.utils.shuffle(spam.append(ham))\n",
    "print(df.head())\n",
    "print(df.describe())"
   ]
  },
  {
   "cell_type": "markdown",
   "metadata": {
    "collapsed": true
   },
   "source": [
    "Нормализовать тексты и обучить байесовскую модель (bag of words)."
   ]
  },
  {
   "cell_type": "markdown",
   "metadata": {},
   "source": [
    "### 1 Разная токенизация – со знаками препинания и без\n",
    "По дефолту в CountVectorizer нет лемматизации и все знаки препинания считаются сепараторами. "
   ]
  },
  {
   "cell_type": "code",
   "execution_count": 28,
   "metadata": {
    "collapsed": false
   },
   "outputs": [
    {
     "name": "stdout",
     "output_type": "stream",
     "text": [
      "[[729  42]\n",
      " [ 18 705]]\n",
      "             precision    recall  f1-score   support\n",
      "\n",
      "        ham       0.98      0.95      0.96       771\n",
      "       spam       0.94      0.98      0.96       723\n",
      "\n",
      "avg / total       0.96      0.96      0.96      1494\n",
      "\n"
     ]
    }
   ],
   "source": [
    "from sklearn.feature_extraction.text import CountVectorizer, TfidfVectorizer\n",
    "from sklearn.naive_bayes import MultinomialNB\n",
    "from sklearn.metrics import classification_report, f1_score, accuracy_score, confusion_matrix\n",
    "from sklearn.model_selection import cross_val_predict, cross_val_score, train_test_split\n",
    "\n",
    "\n",
    "bow_1 = CountVectorizer()\n",
    "bowed_messages_1 = bow_1.fit_transform(df['message'])\n",
    "\n",
    "naive_1 = MultinomialNB()\n",
    "y_pred_1 = cross_val_predict(naive_1, bowed_messages_1, df['label'], cv=10)\n",
    "print(confusion_matrix(y_pred_1, df['label']))\n",
    "print(classification_report(y_pred_1, df['label']))"
   ]
  },
  {
   "cell_type": "markdown",
   "metadata": {},
   "source": [
    "Ваще супер. TP = 705, FP = 42.\n",
    "Теперь пропишем векторайзер, где токенами может быть всякая пунктуация."
   ]
  },
  {
   "cell_type": "code",
   "execution_count": 29,
   "metadata": {
    "collapsed": false
   },
   "outputs": [
    {
     "name": "stdout",
     "output_type": "stream",
     "text": [
      "[[733  36]\n",
      " [ 14 711]]\n",
      "             precision    recall  f1-score   support\n",
      "\n",
      "        ham       0.98      0.95      0.97       769\n",
      "       spam       0.95      0.98      0.97       725\n",
      "\n",
      "avg / total       0.97      0.97      0.97      1494\n",
      "\n"
     ]
    }
   ],
   "source": [
    "bow_2 = CountVectorizer(token_pattern='[\\w]+|[\\.,\\?!\\'\\\"\\-\\(\\);:$]')\n",
    "bowed_messages_2 = bow_2.fit_transform(df['message'])\n",
    "\n",
    "naive_2 = MultinomialNB()\n",
    "y_pred_2 = cross_val_predict(naive_2, bowed_messages_2, df['label'], cv=10)\n",
    "print(confusion_matrix(y_pred_2, df['label']))\n",
    "print(classification_report(y_pred_2, df['label']))"
   ]
  },
  {
   "cell_type": "markdown",
   "metadata": {},
   "source": [
    "Практически то же самое. На 1 выросли TP (706), на 1 снизились FP (41). \n",
    "### 2 Разная лемматизация – отсутствие, стемминг, лемматизация\n",
    "Отсутствие лемматизации мы уже видели. Сделаем стемминг."
   ]
  },
  {
   "cell_type": "code",
   "execution_count": 30,
   "metadata": {
    "collapsed": false
   },
   "outputs": [
    {
     "name": "stdout",
     "output_type": "stream",
     "text": [
      "[[727  46]\n",
      " [ 20 701]]\n",
      "             precision    recall  f1-score   support\n",
      "\n",
      "        ham       0.97      0.94      0.96       773\n",
      "       spam       0.94      0.97      0.96       721\n",
      "\n",
      "avg / total       0.96      0.96      0.96      1494\n",
      "\n"
     ]
    }
   ],
   "source": [
    "from nltk.stem.porter import *\n",
    "from nltk import word_tokenize\n",
    "\n",
    "\n",
    "def stemmer_w_punct(text):\n",
    "    stemmer = PorterStemmer()\n",
    "    return [stemmer.stem(word) for word in word_tokenize(text)]\n",
    "    \n",
    "    \n",
    "bow_3 = CountVectorizer(tokenizer=stemmer_w_punct)\n",
    "bowed_messages_3 = bow_3.fit_transform(df['message'])\n",
    "\n",
    "naive_3 = MultinomialNB()\n",
    "y_pred_3 = cross_val_predict(naive_3, bowed_messages_3, df['label'], cv=10)\n",
    "print(confusion_matrix(y_pred_3, df['label']))\n",
    "print(classification_report(y_pred_3, df['label']))"
   ]
  },
  {
   "cell_type": "markdown",
   "metadata": {},
   "source": [
    "Качество ухудшилось, но немного. TP = 701 (-5), FP = 46 (+5).\n",
    "\n",
    "И стемминг без пунктуации:"
   ]
  },
  {
   "cell_type": "code",
   "execution_count": 31,
   "metadata": {
    "collapsed": false
   },
   "outputs": [
    {
     "name": "stdout",
     "output_type": "stream",
     "text": [
      "[[737  37]\n",
      " [ 10 710]]\n",
      "             precision    recall  f1-score   support\n",
      "\n",
      "        ham       0.99      0.95      0.97       774\n",
      "       spam       0.95      0.99      0.97       720\n",
      "\n",
      "avg / total       0.97      0.97      0.97      1494\n",
      "\n"
     ]
    }
   ],
   "source": [
    "import re\n",
    "\n",
    "\n",
    "RE_WORD = re.compile('[\\w]+')\n",
    "\n",
    "\n",
    "def stemmer_wo_punct(text):\n",
    "    stemmer = PorterStemmer()\n",
    "    return [stemmer.stem(word) for word in RE_WORD.findall(text)]\n",
    "    \n",
    "    \n",
    "bow_4 = CountVectorizer(tokenizer=stemmer_wo_punct)\n",
    "bowed_messages_4 = bow_4.fit_transform(df['message'])\n",
    "\n",
    "naive_4 = MultinomialNB()\n",
    "y_pred_4 = cross_val_predict(naive_4, bowed_messages_4, df['label'], cv=10)\n",
    "print(confusion_matrix(y_pred_4, df['label']))\n",
    "print(classification_report(y_pred_4, df['label']))"
   ]
  },
  {
   "cell_type": "markdown",
   "metadata": {},
   "source": [
    "Стало немного лучше по всем параметрам. TP = 711 (+10), FP = 36 (-10).\n",
    "\n",
    "Теперь лемматизация с и без пунктуации."
   ]
  },
  {
   "cell_type": "code",
   "execution_count": 32,
   "metadata": {
    "collapsed": false
   },
   "outputs": [
    {
     "name": "stdout",
     "output_type": "stream",
     "text": [
      "[[727  49]\n",
      " [ 20 698]]\n",
      "             precision    recall  f1-score   support\n",
      "\n",
      "        ham       0.97      0.94      0.95       776\n",
      "       spam       0.93      0.97      0.95       718\n",
      "\n",
      "avg / total       0.95      0.95      0.95      1494\n",
      "\n"
     ]
    }
   ],
   "source": [
    "from nltk.stem import WordNetLemmatizer \n",
    "\n",
    "\n",
    "def lemmer_w_punct(text):\n",
    "    return [WordNetLemmatizer().lemmatize(word) for word in word_tokenize(text)]\n",
    "    \n",
    "    \n",
    "bow_5 = CountVectorizer(tokenizer=lemmer_w_punct)\n",
    "bowed_messages_5 = bow_5.fit_transform(df['message'])\n",
    "\n",
    "naive_5 = MultinomialNB()\n",
    "y_pred_5 = cross_val_predict(naive_5, bowed_messages_5, df['label'], cv=10)\n",
    "print(confusion_matrix(y_pred_5, df['label']))\n",
    "print(classification_report(y_pred_5, df['label']))"
   ]
  },
  {
   "cell_type": "markdown",
   "metadata": {},
   "source": [
    "Хуже. TP = 699 (-12), FP = 48 (+12)."
   ]
  },
  {
   "cell_type": "code",
   "execution_count": 33,
   "metadata": {
    "collapsed": false
   },
   "outputs": [
    {
     "name": "stdout",
     "output_type": "stream",
     "text": [
      "[[735  36]\n",
      " [ 12 711]]\n",
      "             precision    recall  f1-score   support\n",
      "\n",
      "        ham       0.98      0.95      0.97       771\n",
      "       spam       0.95      0.98      0.97       723\n",
      "\n",
      "avg / total       0.97      0.97      0.97      1494\n",
      "\n"
     ]
    }
   ],
   "source": [
    "from nltk.stem import WordNetLemmatizer\n",
    "\n",
    "\n",
    "def lemmer_wo_punct(text):\n",
    "    stemmer = PorterStemmer()\n",
    "    return [WordNetLemmatizer().lemmatize(word) for word in RE_WORD.findall(text)]\n",
    "    \n",
    "    \n",
    "bow_6 = CountVectorizer(tokenizer=lemmer_wo_punct)\n",
    "bowed_messages_6= bow_6.fit_transform(df['message'])\n",
    "\n",
    "naive_6 = MultinomialNB()\n",
    "y_pred_6 = cross_val_predict(naive_6, bowed_messages_6, df['label'], cv=10)\n",
    "print(confusion_matrix(y_pred_6, df['label']))\n",
    "print(classification_report(y_pred_6, df['label']))"
   ]
  },
  {
   "cell_type": "markdown",
   "metadata": {},
   "source": [
    "Немного лучше. TP = 707 (+8), FP = 40 (-8).\n",
    "### 3 Удаление стоп-слов и пороги min_df/max_df\n",
    "Для дальнейшей работы возьмем дефолтную модель и лучший на данный момент вариант – стемминг без пунктуации.\n",
    "\n",
    "Стоп-слова в дефолтной модели:"
   ]
  },
  {
   "cell_type": "code",
   "execution_count": 34,
   "metadata": {
    "collapsed": false
   },
   "outputs": [
    {
     "name": "stdout",
     "output_type": "stream",
     "text": [
      "[[713  40]\n",
      " [ 34 707]]\n",
      "             precision    recall  f1-score   support\n",
      "\n",
      "        ham       0.95      0.95      0.95       753\n",
      "       spam       0.95      0.95      0.95       741\n",
      "\n",
      "avg / total       0.95      0.95      0.95      1494\n",
      "\n"
     ]
    }
   ],
   "source": [
    "bow_7 = CountVectorizer(stop_words='english')\n",
    "bowed_messages_7 = bow_7.fit_transform(df['message'])\n",
    "\n",
    "naive_7 = MultinomialNB()\n",
    "y_pred_7 = cross_val_predict(naive_7, bowed_messages_7, df['label'], cv=10)\n",
    "print(confusion_matrix(y_pred_7, df['label']))\n",
    "print(classification_report(y_pred_7, df['label']))"
   ]
  },
  {
   "cell_type": "markdown",
   "metadata": {},
   "source": [
    "Стоп-слова со стеммингом без пунктуации:"
   ]
  },
  {
   "cell_type": "code",
   "execution_count": 35,
   "metadata": {
    "collapsed": false
   },
   "outputs": [
    {
     "name": "stdout",
     "output_type": "stream",
     "text": [
      "[[723  34]\n",
      " [ 24 713]]\n",
      "             precision    recall  f1-score   support\n",
      "\n",
      "        ham       0.97      0.96      0.96       757\n",
      "       spam       0.95      0.97      0.96       737\n",
      "\n",
      "avg / total       0.96      0.96      0.96      1494\n",
      "\n"
     ]
    }
   ],
   "source": [
    "bow_8 = CountVectorizer(tokenizer=stemmer_wo_punct, stop_words='english')\n",
    "bowed_messages_8 = bow_8.fit_transform(df['message'])\n",
    "\n",
    "naive_8 = MultinomialNB()\n",
    "y_pred_8 = cross_val_predict(naive_8, bowed_messages_8, df['label'], cv=10)\n",
    "print(confusion_matrix(y_pred_8, df['label']))\n",
    "print(classification_report(y_pred_8, df['label']))"
   ]
  },
  {
   "cell_type": "markdown",
   "metadata": {},
   "source": [
    "Здесь самые лучшие показатели TP и FP.\n",
    "\n",
    "Пороги в дефолтной модели:"
   ]
  },
  {
   "cell_type": "code",
   "execution_count": 53,
   "metadata": {
    "collapsed": false
   },
   "outputs": [
    {
     "name": "stdout",
     "output_type": "stream",
     "text": [
      "[[588 162]\n",
      " [159 585]]\n",
      "             precision    recall  f1-score   support\n",
      "\n",
      "        ham       0.79      0.78      0.79       750\n",
      "       spam       0.78      0.79      0.78       744\n",
      "\n",
      "avg / total       0.79      0.79      0.79      1494\n",
      "\n"
     ]
    }
   ],
   "source": [
    "bow_9 = CountVectorizer(min_df=0.10, max_df=0.90)\n",
    "bowed_messages_9 = bow_9.fit_transform(df['message'])\n",
    "\n",
    "naive_9 = MultinomialNB()\n",
    "y_pred_9 = cross_val_predict(naive_9, bowed_messages_9, df['label'], cv=10)\n",
    "print(confusion_matrix(y_pred_9, df['label']))\n",
    "print(classification_report(y_pred_9, df['label']))"
   ]
  },
  {
   "cell_type": "markdown",
   "metadata": {},
   "source": [
    "Пороги со стеммингом без пунктуации:"
   ]
  },
  {
   "cell_type": "code",
   "execution_count": 55,
   "metadata": {
    "collapsed": false
   },
   "outputs": [
    {
     "name": "stdout",
     "output_type": "stream",
     "text": [
      "[[611 102]\n",
      " [136 645]]\n",
      "             precision    recall  f1-score   support\n",
      "\n",
      "        ham       0.82      0.86      0.84       713\n",
      "       spam       0.86      0.83      0.84       781\n",
      "\n",
      "avg / total       0.84      0.84      0.84      1494\n",
      "\n"
     ]
    }
   ],
   "source": [
    "bow_10 = CountVectorizer(tokenizer=stemmer_wo_punct, min_df=0.10, max_df=0.90)\n",
    "bowed_messages_10 = bow_10.fit_transform(df['message'])\n",
    "\n",
    "naive_10 = MultinomialNB()\n",
    "y_pred_10 = cross_val_predict(naive_10, bowed_messages_10, df['label'], cv=10)\n",
    "print(confusion_matrix(y_pred_10, df['label']))\n",
    "print(classification_report(y_pred_10, df['label']))"
   ]
  },
  {
   "cell_type": "markdown",
   "metadata": {},
   "source": [
    "С порогами все гораздо хуже (хотя можно подбирать параметры, конечно). TP спускается до 598-647, FP поднимается до 100-158. "
   ]
  },
  {
   "cell_type": "markdown",
   "metadata": {},
   "source": [
    "### 4 CountVectorizer vs. TfIdfVectorizer\n",
    "TfIdfVectorizer для дефолтной модели:"
   ]
  },
  {
   "cell_type": "code",
   "execution_count": 57,
   "metadata": {
    "collapsed": false
   },
   "outputs": [
    {
     "name": "stdout",
     "output_type": "stream",
     "text": [
      "[[724  43]\n",
      " [ 23 704]]\n",
      "             precision    recall  f1-score   support\n",
      "\n",
      "        ham       0.97      0.94      0.96       767\n",
      "       spam       0.94      0.97      0.96       727\n",
      "\n",
      "avg / total       0.96      0.96      0.96      1494\n",
      "\n"
     ]
    }
   ],
   "source": [
    "bow_11 = TfidfVectorizer()\n",
    "bowed_messages_11 = bow_11.fit_transform(df['message'])\n",
    "\n",
    "naive_11 = MultinomialNB()\n",
    "y_pred_11 = cross_val_predict(naive_11, bowed_messages_11, df['label'], cv=10)\n",
    "print(confusion_matrix(y_pred_11, df['label']))\n",
    "print(classification_report(y_pred_11, df['label']))"
   ]
  },
  {
   "cell_type": "markdown",
   "metadata": {},
   "source": [
    "TfidfVectorizer со стоп-словами и стеммингом без пунктуации:"
   ]
  },
  {
   "cell_type": "code",
   "execution_count": 59,
   "metadata": {
    "collapsed": false
   },
   "outputs": [
    {
     "name": "stdout",
     "output_type": "stream",
     "text": [
      "[[712  29]\n",
      " [ 35 718]]\n",
      "             precision    recall  f1-score   support\n",
      "\n",
      "        ham       0.95      0.96      0.96       741\n",
      "       spam       0.96      0.95      0.96       753\n",
      "\n",
      "avg / total       0.96      0.96      0.96      1494\n",
      "\n"
     ]
    }
   ],
   "source": [
    "bow_12 = TfidfVectorizer(tokenizer=stemmer_wo_punct, stop_words='english')\n",
    "bowed_messages_12 = bow_12.fit_transform(df['message'])\n",
    "\n",
    "naive_12 = MultinomialNB()\n",
    "y_pred_12 = cross_val_predict(naive_12, bowed_messages_12, df['label'], cv=10)\n",
    "print(confusion_matrix(y_pred_12, df['label']))\n",
    "print(classification_report(y_pred_12, df['label']))"
   ]
  },
  {
   "cell_type": "markdown",
   "metadata": {},
   "source": [
    "### 5 Что-нибудь ещё? Посмотрим биграммы\n",
    "Биграммы для дефолтной модели:"
   ]
  },
  {
   "cell_type": "code",
   "execution_count": 61,
   "metadata": {
    "collapsed": false
   },
   "outputs": [
    {
     "name": "stdout",
     "output_type": "stream",
     "text": [
      "[[735 107]\n",
      " [ 12 640]]\n",
      "             precision    recall  f1-score   support\n",
      "\n",
      "        ham       0.98      0.87      0.93       842\n",
      "       spam       0.86      0.98      0.91       652\n",
      "\n",
      "avg / total       0.93      0.92      0.92      1494\n",
      "\n"
     ]
    }
   ],
   "source": [
    "bow_13 = CountVectorizer(ngram_range=(2, 2))\n",
    "bowed_messages_13 = bow_13.fit_transform(df['message'])\n",
    "\n",
    "naive_13 = MultinomialNB()\n",
    "y_pred_13 = cross_val_predict(naive_13, bowed_messages_13, df['label'], cv=10)\n",
    "print(confusion_matrix(y_pred_13, df['label']))\n",
    "print(classification_report(y_pred_13, df['label']))"
   ]
  },
  {
   "cell_type": "markdown",
   "metadata": {},
   "source": [
    "Биграммы со стеммингом без пунктуации:"
   ]
  },
  {
   "cell_type": "code",
   "execution_count": 64,
   "metadata": {
    "collapsed": false
   },
   "outputs": [
    {
     "name": "stdout",
     "output_type": "stream",
     "text": [
      "[[735  99]\n",
      " [ 12 648]]\n",
      "             precision    recall  f1-score   support\n",
      "\n",
      "        ham       0.98      0.88      0.93       834\n",
      "       spam       0.87      0.98      0.92       660\n",
      "\n",
      "avg / total       0.93      0.93      0.93      1494\n",
      "\n"
     ]
    }
   ],
   "source": [
    "bow_14 = CountVectorizer(tokenizer=stemmer_wo_punct, ngram_range=(2, 2))\n",
    "bowed_messages_14 = bow_14.fit_transform(df['message'])\n",
    "\n",
    "naive_14 = MultinomialNB()\n",
    "y_pred_14 = cross_val_predict(naive_14, bowed_messages_14, df['label'], cv=10)\n",
    "print(confusion_matrix(y_pred_14, df['label']))\n",
    "print(classification_report(y_pred_14, df['label']))"
   ]
  },
  {
   "cell_type": "markdown",
   "metadata": {},
   "source": [
    "С биграммами лучше не стало."
   ]
  },
  {
   "cell_type": "code",
   "execution_count": 65,
   "metadata": {
    "collapsed": false
   },
   "outputs": [
    {
     "data": {
      "text/html": [
       "<div>\n",
       "<table border=\"1\" class=\"dataframe\">\n",
       "  <thead>\n",
       "    <tr style=\"text-align: right;\">\n",
       "      <th></th>\n",
       "      <th>model</th>\n",
       "      <th>TP</th>\n",
       "      <th>FP</th>\n",
       "      <th>F1</th>\n",
       "    </tr>\n",
       "  </thead>\n",
       "  <tbody>\n",
       "    <tr>\n",
       "      <th>0</th>\n",
       "      <td>1.0</td>\n",
       "      <td>705.0</td>\n",
       "      <td>42.0</td>\n",
       "      <td>0.96</td>\n",
       "    </tr>\n",
       "    <tr>\n",
       "      <th>1</th>\n",
       "      <td>2.0</td>\n",
       "      <td>711.0</td>\n",
       "      <td>36.0</td>\n",
       "      <td>0.97</td>\n",
       "    </tr>\n",
       "    <tr>\n",
       "      <th>2</th>\n",
       "      <td>3.0</td>\n",
       "      <td>701.0</td>\n",
       "      <td>46.0</td>\n",
       "      <td>0.96</td>\n",
       "    </tr>\n",
       "    <tr>\n",
       "      <th>3</th>\n",
       "      <td>4.0</td>\n",
       "      <td>710.0</td>\n",
       "      <td>37.0</td>\n",
       "      <td>0.97</td>\n",
       "    </tr>\n",
       "    <tr>\n",
       "      <th>4</th>\n",
       "      <td>5.0</td>\n",
       "      <td>698.0</td>\n",
       "      <td>49.0</td>\n",
       "      <td>0.95</td>\n",
       "    </tr>\n",
       "    <tr>\n",
       "      <th>5</th>\n",
       "      <td>6.0</td>\n",
       "      <td>711.0</td>\n",
       "      <td>36.0</td>\n",
       "      <td>0.97</td>\n",
       "    </tr>\n",
       "    <tr>\n",
       "      <th>6</th>\n",
       "      <td>7.0</td>\n",
       "      <td>707.0</td>\n",
       "      <td>40.0</td>\n",
       "      <td>0.95</td>\n",
       "    </tr>\n",
       "    <tr>\n",
       "      <th>7</th>\n",
       "      <td>8.0</td>\n",
       "      <td>713.0</td>\n",
       "      <td>34.0</td>\n",
       "      <td>0.96</td>\n",
       "    </tr>\n",
       "    <tr>\n",
       "      <th>8</th>\n",
       "      <td>9.0</td>\n",
       "      <td>585.0</td>\n",
       "      <td>162.0</td>\n",
       "      <td>0.79</td>\n",
       "    </tr>\n",
       "    <tr>\n",
       "      <th>9</th>\n",
       "      <td>10.0</td>\n",
       "      <td>645.0</td>\n",
       "      <td>102.0</td>\n",
       "      <td>0.84</td>\n",
       "    </tr>\n",
       "    <tr>\n",
       "      <th>10</th>\n",
       "      <td>11.0</td>\n",
       "      <td>704.0</td>\n",
       "      <td>43.0</td>\n",
       "      <td>0.96</td>\n",
       "    </tr>\n",
       "    <tr>\n",
       "      <th>11</th>\n",
       "      <td>12.0</td>\n",
       "      <td>718.0</td>\n",
       "      <td>29.0</td>\n",
       "      <td>0.96</td>\n",
       "    </tr>\n",
       "    <tr>\n",
       "      <th>12</th>\n",
       "      <td>13.0</td>\n",
       "      <td>640.0</td>\n",
       "      <td>107.0</td>\n",
       "      <td>0.93</td>\n",
       "    </tr>\n",
       "    <tr>\n",
       "      <th>13</th>\n",
       "      <td>14.0</td>\n",
       "      <td>648.0</td>\n",
       "      <td>99.0</td>\n",
       "      <td>0.93</td>\n",
       "    </tr>\n",
       "  </tbody>\n",
       "</table>\n",
       "</div>"
      ],
      "text/plain": [
       "    model     TP     FP    F1\n",
       "0     1.0  705.0   42.0  0.96\n",
       "1     2.0  711.0   36.0  0.97\n",
       "2     3.0  701.0   46.0  0.96\n",
       "3     4.0  710.0   37.0  0.97\n",
       "4     5.0  698.0   49.0  0.95\n",
       "5     6.0  711.0   36.0  0.97\n",
       "6     7.0  707.0   40.0  0.95\n",
       "7     8.0  713.0   34.0  0.96\n",
       "8     9.0  585.0  162.0  0.79\n",
       "9    10.0  645.0  102.0  0.84\n",
       "10   11.0  704.0   43.0  0.96\n",
       "11   12.0  718.0   29.0  0.96\n",
       "12   13.0  640.0  107.0  0.93\n",
       "13   14.0  648.0   99.0  0.93"
      ]
     },
     "execution_count": 65,
     "metadata": {},
     "output_type": "execute_result"
    }
   ],
   "source": [
    "pred = [y_pred_1, y_pred_2, y_pred_3, y_pred_4, y_pred_5, y_pred_6, y_pred_7,\n",
    "        y_pred_8, y_pred_9, y_pred_10, y_pred_11, y_pred_12, y_pred_13, y_pred_14]\n",
    "\n",
    "table = pandas.DataFrame(columns=['model', 'TP', 'FP', 'F1'])\n",
    "for p in range(len(pred)):\n",
    "    table.loc[len(table)]=[p + 1,\n",
    "                           confusion_matrix(pred[p], df['label'])[1, 1],\n",
    "                           confusion_matrix(pred[p], df['label'])[0, 1],\n",
    "                           classification_report(pred[p], df['label']).split('\\n')[5].split()[3]]\n",
    "table"
   ]
  },
  {
   "cell_type": "markdown",
   "metadata": {},
   "source": [
    "Если мы смотрим на TP/FP, то лучшая модель – 12, TfidfVectorizer со стоп-словами и стеммингом без пунктуации. Если на F-меру, то можно выбирать любую модель с показателем 97% – 2 (дефолт с пунктуацией), 4 (стемминг без пунктуации), 6 (лемматизация без пунктуации). "
   ]
  },
  {
   "cell_type": "markdown",
   "metadata": {},
   "source": [
    "### Extra\n",
    "Ограничив количество наблюдений ham в обучающей выборке, мы игнорируем довольно много данных. 1) В цикле: случайно выбрать нужное число писем ham и сконструировать сбалансированную выборку, построить классификатор, оценить и записать результат; в итоге результаты усреднить. 2) поможет ли параметр class prior probability?\n",
    "\n",
    "Перемешаем еще раз весь хам, а потом будем брать по 804 элемента для каждой выборки. Таким образом получим шесть выборок хама. Маленькие выборки чуть-чуть больше спама, но наверное, ничего страшного."
   ]
  },
  {
   "cell_type": "code",
   "execution_count": 74,
   "metadata": {
    "collapsed": false
   },
   "outputs": [
    {
     "name": "stdout",
     "output_type": "stream",
     "text": [
      "Sample 0: f1 = 0.9570692615912993\n",
      "Sample 0, uniform prior: f1 = 0.5208085612366231\n",
      "Sample 1: f1 = 0.9628339140534263\n",
      "Sample 1, uniform prior: f1 = 0.538860103626943\n",
      "Sample 2: f1 = 0.9551208285385501\n",
      "Sample 2, uniform prior: f1 = 0.5374347069065583\n",
      "Sample 3: f1 = 0.9568717653824036\n",
      "Sample 3, uniform prior: f1 = 0.5791855203619909\n",
      "Sample 4: f1 = 0.9616279069767442\n",
      "Sample 4, uniform prior: f1 = 0.5266272189349112\n",
      "Sample 5: f1 = 0.9556706966033393\n",
      "Sample 5, uniform prior: f1 = 0.5697606538237011\n"
     ]
    },
    {
     "data": {
      "text/plain": [
       "(0.9581990621909604, 0.54544612748178789)"
      ]
     },
     "execution_count": 74,
     "metadata": {},
     "output_type": "execute_result"
    }
   ],
   "source": [
    "# модель с uniform prior\n",
    "bow_15 = TfidfVectorizer(tokenizer=stemmer_wo_punct, stop_words='english')\n",
    "bowed_messages_15 = bow_15.fit_transform(df['message'])\n",
    "naive_15 = MultinomialNB(fit_prior=False)\n",
    "\n",
    "ham = messages.loc[messages['label']=='ham']\n",
    "ham = sklearn.utils.shuffle(spam.append(ham))\n",
    "j = 0\n",
    "scores, scores_uni = [], []\n",
    "for i in range(6):\n",
    "    spam = messages.loc[messages['label']=='spam']\n",
    "    new_ham = ham[j:j+804]\n",
    "    df = sklearn.utils.shuffle(spam.append(new_ham))\n",
    "    j += 804\n",
    "    bowed_messages_12 = bow_12.fit_transform(df['message'])\n",
    "    y_pred_12 = cross_val_predict(naive_12, bowed_messages_12, df['label'], cv=10)\n",
    "    score = f1_score(df['label'], y_pred_12, pos_label='spam')\n",
    "    print('Sample {}: f1 = {}'.format(i, score))\n",
    "    scores.append(score)\n",
    "    \n",
    "    # uniform prior\n",
    "    y_pred_15 = cross_val_predict(naive_15, bowed_messages_15, df['label'], cv=10)\n",
    "    score_uni = f1_score(df['label'], y_pred_15, pos_label='spam')\n",
    "    print('Sample {}, uniform prior: f1 = {}'.format(i, score_uni))\n",
    "    scores_uni.append(score_uni)\n",
    "\n",
    "np.mean(scores), np.mean(scores_uni)"
   ]
  },
  {
   "cell_type": "markdown",
   "metadata": {},
   "source": [
    "Средняя на всей выборке ожидаемая. Uniform prior, т. е. равномерная class prior probability, не помогает."
   ]
  },
  {
   "cell_type": "markdown",
   "metadata": {},
   "source": [
    "# 2\n",
    "Сравнить результаты байесовского классификатора, решающего дерева и RandomForest. Помимо стандартных метрик оценки качества модели, необходимо построить learning curve, ROC-curve, classification report и интерпретировать эти результаты.\n",
    "\n",
    "### Decision Tree"
   ]
  },
  {
   "cell_type": "code",
   "execution_count": 78,
   "metadata": {
    "collapsed": false
   },
   "outputs": [
    {
     "name": "stdout",
     "output_type": "stream",
     "text": [
      "[[674 103]\n",
      " [ 24 750]]\n",
      "             precision    recall  f1-score   support\n",
      "\n",
      "        ham       0.97      0.87      0.91       777\n",
      "       spam       0.88      0.97      0.92       774\n",
      "\n",
      "avg / total       0.92      0.92      0.92      1551\n",
      "\n"
     ]
    }
   ],
   "source": [
    "bow_16 = CountVectorizer(tokenizer=stemmer_wo_punct, ngram_range=(2, 2))\n",
    "bowed_messages_16 = bow_16.fit_transform(df['message'])\n",
    "\n",
    "tree = DecisionTreeClassifier()\n",
    "y_pred_16 = cross_val_predict(tree, bowed_messages_16, df['label'], cv=10)\n",
    "print(confusion_matrix(y_pred_16, df['label']))\n",
    "print(classification_report(y_pred_16, df['label']))"
   ]
  },
  {
   "cell_type": "markdown",
   "metadata": {},
   "source": [
    "Дерево решений хуже: F-мера = только 92%."
   ]
  },
  {
   "cell_type": "markdown",
   "metadata": {},
   "source": [
    "### Random Forest"
   ]
  },
  {
   "cell_type": "code",
   "execution_count": 80,
   "metadata": {
    "collapsed": false
   },
   "outputs": [
    {
     "name": "stdout",
     "output_type": "stream",
     "text": [
      "[[691 146]\n",
      " [  7 707]]\n",
      "             precision    recall  f1-score   support\n",
      "\n",
      "        ham       0.99      0.83      0.90       837\n",
      "       spam       0.83      0.99      0.90       714\n",
      "\n",
      "avg / total       0.92      0.90      0.90      1551\n",
      "\n"
     ]
    }
   ],
   "source": [
    "bow_17 = CountVectorizer(tokenizer=stemmer_wo_punct, ngram_range=(2, 2))\n",
    "bowed_messages_17 = bow_17.fit_transform(df['message'])\n",
    "\n",
    "forest = RandomForestClassifier()\n",
    "y_pred_17 = cross_val_predict(forest, bowed_messages_17, df['label'], cv=10)\n",
    "print(confusion_matrix(y_pred_17, df['label']))\n",
    "print(classification_report(y_pred_17, df['label']))"
   ]
  },
  {
   "cell_type": "markdown",
   "metadata": {},
   "source": [
    "И лес тоже хуже.\n",
    "### Learning curves"
   ]
  },
  {
   "cell_type": "code",
   "execution_count": 87,
   "metadata": {
    "collapsed": false
   },
   "outputs": [
    {
     "name": "stdout",
     "output_type": "stream",
     "text": [
      "Automatically created module for IPython interactive environment\n"
     ]
    },
    {
     "data": {
      "text/plain": [
       "<matplotlib.figure.Figure at 0x114b07080>"
      ]
     },
     "metadata": {},
     "output_type": "display_data"
    },
    {
     "data": {
      "image/png": "[encoded data removed]",
      "text/plain": [
       "<matplotlib.figure.Figure at 0x114b03dd8>"
      ]
     },
     "metadata": {},
     "output_type": "display_data"
    },
    {
     "data": {
      "image/png": "[encoded data removed]",
      "text/plain": [
       "<matplotlib.figure.Figure at 0x112b05630>"
      ]
     },
     "metadata": {},
     "output_type": "display_data"
    },
    {
     "data": {
      "image/png": "[encoded data removed]",
      "text/plain": [
       "<matplotlib.figure.Figure at 0x11488be48>"
      ]
     },
     "metadata": {},
     "output_type": "display_data"
    }
   ],
   "source": [
    "print(__doc__)\n",
    "\n",
    "import numpy as np\n",
    "import matplotlib.pyplot as plt\n",
    "from sklearn.naive_bayes import GaussianNB\n",
    "from sklearn.svm import SVC\n",
    "from sklearn.datasets import load_digits\n",
    "from sklearn.model_selection import learning_curve\n",
    "from sklearn.model_selection import ShuffleSplit\n",
    "\n",
    "\n",
    "def plot_learning_curve(estimator, title, X, y, ylim=None, cv=None,\n",
    "                        n_jobs=1, train_sizes=np.linspace(.1, 1.0, 5)):\n",
    "    \"\"\"\n",
    "    Generate a simple plot of the test and training learning curve.\n",
    "\n",
    "    Parameters\n",
    "    ----------\n",
    "    estimator : object type that implements the \"fit\" and \"predict\" methods\n",
    "        An object of that type which is cloned for each validation.\n",
    "\n",
    "    title : string\n",
    "        Title for the chart.\n",
    "\n",
    "    X : array-like, shape (n_samples, n_features)\n",
    "        Training vector, where n_samples is the number of samples and\n",
    "        n_features is the number of features.\n",
    "\n",
    "    y : array-like, shape (n_samples) or (n_samples, n_features), optional\n",
    "        Target relative to X for classification or regression;\n",
    "        None for unsupervised learning.\n",
    "\n",
    "    ylim : tuple, shape (ymin, ymax), optional\n",
    "        Defines minimum and maximum yvalues plotted.\n",
    "\n",
    "    cv : int, cross-validation generator or an iterable, optional\n",
    "        Determines the cross-validation splitting strategy.\n",
    "        Possible inputs for cv are:\n",
    "          - None, to use the default 3-fold cross-validation,\n",
    "          - integer, to specify the number of folds.\n",
    "          - An object to be used as a cross-validation generator.\n",
    "          - An iterable yielding train/test splits.\n",
    "\n",
    "        For integer/None inputs, if ``y`` is binary or multiclass,\n",
    "        :class:`StratifiedKFold` used. If the estimator is not a classifier\n",
    "        or if ``y`` is neither binary nor multiclass, :class:`KFold` is used.\n",
    "\n",
    "        Refer :ref:`User Guide <cross_validation>` for the various\n",
    "        cross-validators that can be used here.\n",
    "\n",
    "    n_jobs : integer, optional\n",
    "        Number of jobs to run in parallel (default 1).\n",
    "    \"\"\"\n",
    "    plt.figure()\n",
    "    plt.title(title)\n",
    "    if ylim is not None:\n",
    "        plt.ylim(*ylim)\n",
    "    plt.xlabel(\"Training examples\")\n",
    "    plt.ylabel(\"Score\")\n",
    "    train_sizes, train_scores, test_scores = learning_curve(\n",
    "        estimator, X, y, cv=cv, n_jobs=n_jobs, train_sizes=train_sizes)\n",
    "    train_scores_mean = np.mean(train_scores, axis=1)\n",
    "    train_scores_std = np.std(train_scores, axis=1)\n",
    "    test_scores_mean = np.mean(test_scores, axis=1)\n",
    "    test_scores_std = np.std(test_scores, axis=1)\n",
    "    plt.grid()\n",
    "\n",
    "    plt.fill_between(train_sizes, train_scores_mean - train_scores_std,\n",
    "                     train_scores_mean + train_scores_std, alpha=0.1,\n",
    "                     color=\"r\")\n",
    "    plt.fill_between(train_sizes, test_scores_mean - test_scores_std,\n",
    "                     test_scores_mean + test_scores_std, alpha=0.1, color=\"g\")\n",
    "    plt.plot(train_sizes, train_scores_mean, 'o-', color=\"r\",\n",
    "             label=\"Training score\")\n",
    "    plt.plot(train_sizes, test_scores_mean, 'o-', color=\"g\",\n",
    "             label=\"Cross-validation score\")\n",
    "\n",
    "    plt.legend(loc=\"best\")\n",
    "    return plt\n",
    "\n",
    "X, y = bowed_messages_12, df['label']\n",
    "\n",
    "plt.figure()\n",
    "\n",
    "title = \"Learning Curves (Naive Bayes)\"\n",
    "# Cross validation with 100 iterations to get smoother mean test and train\n",
    "# score curves, each time with 20% data randomly selected as a validation set.\n",
    "cv = ShuffleSplit(n_splits=100, test_size=0.2, random_state=0)\n",
    "plot_learning_curve(naive_12, title, X, y, ylim=(0.7, 1.01), cv=cv, n_jobs=4)\n",
    "\n",
    "title = \"Learning Curves (Decision Tree)\"\n",
    "cv = ShuffleSplit(n_splits=100, test_size=0.2, random_state=0)\n",
    "plot_learning_curve(tree, title, X, y, (0.7, 1.01), cv=cv, n_jobs=4)\n",
    "\n",
    "title = \"Learning Curves (Random Forest)\"\n",
    "cv = ShuffleSplit(n_splits=100, test_size=0.2, random_state=0)\n",
    "plot_learning_curve(forest, title, X, y, (0.7, 1.01), cv=cv, n_jobs=4)\n",
    "\n",
    "plt.show()"
   ]
  },
  {
   "cell_type": "markdown",
   "metadata": {},
   "source": [
    "Ни одна из кривых не сходится к низкому значению, значит, вроде бы, можно увеличивать количество тренировочных выборок.\n",
    "### ROC-curves - не работает и сил больше нет\n",
    "Naive Bayes:"
   ]
  },
  {
   "cell_type": "code",
   "execution_count": 139,
   "metadata": {
    "collapsed": false
   },
   "outputs": [
    {
     "ename": "ValueError",
     "evalue": "cannot reindex from a duplicate axis",
     "output_type": "error",
     "traceback": [
      "\u001b[0;31m---------------------------------------------------------------------------\u001b[0m",
      "\u001b[0;31mValueError\u001b[0m                                Traceback (most recent call last)",
      "\u001b[0;32m<ipython-input-139-a1a71047e47f>\u001b[0m in \u001b[0;36m<module>\u001b[0;34m()\u001b[0m\n\u001b[1;32m     18\u001b[0m \u001b[0mi\u001b[0m \u001b[0;34m=\u001b[0m \u001b[0;36m0\u001b[0m\u001b[0;34m\u001b[0m\u001b[0m\n\u001b[1;32m     19\u001b[0m \u001b[0;32mfor\u001b[0m \u001b[0;34m(\u001b[0m\u001b[0mtrain\u001b[0m\u001b[0;34m,\u001b[0m \u001b[0mtest\u001b[0m\u001b[0;34m)\u001b[0m\u001b[0;34m,\u001b[0m \u001b[0mcolor\u001b[0m \u001b[0;32min\u001b[0m \u001b[0mzip\u001b[0m\u001b[0;34m(\u001b[0m\u001b[0mcv\u001b[0m\u001b[0;34m.\u001b[0m\u001b[0msplit\u001b[0m\u001b[0;34m(\u001b[0m\u001b[0mX\u001b[0m\u001b[0;34m,\u001b[0m \u001b[0my\u001b[0m\u001b[0;34m)\u001b[0m\u001b[0;34m,\u001b[0m \u001b[0mcolors\u001b[0m\u001b[0;34m)\u001b[0m\u001b[0;34m:\u001b[0m\u001b[0;34m\u001b[0m\u001b[0m\n\u001b[0;32m---> 20\u001b[0;31m     \u001b[0mnaive_12\u001b[0m\u001b[0;34m.\u001b[0m\u001b[0mfit\u001b[0m\u001b[0;34m(\u001b[0m\u001b[0mX\u001b[0m\u001b[0;34m[\u001b[0m\u001b[0mtrain\u001b[0m\u001b[0;34m]\u001b[0m\u001b[0;34m,\u001b[0m \u001b[0my\u001b[0m\u001b[0;34m[\u001b[0m\u001b[0mtrain\u001b[0m\u001b[0;34m]\u001b[0m\u001b[0;34m)\u001b[0m\u001b[0;34m\u001b[0m\u001b[0m\n\u001b[0m\u001b[1;32m     21\u001b[0m     \u001b[0mprobas_\u001b[0m \u001b[0;34m=\u001b[0m \u001b[0mnaive_12\u001b[0m\u001b[0;34m.\u001b[0m\u001b[0mpredict_proba\u001b[0m\u001b[0;34m(\u001b[0m\u001b[0mX\u001b[0m\u001b[0;34m[\u001b[0m\u001b[0mtest\u001b[0m\u001b[0;34m]\u001b[0m\u001b[0;34m)\u001b[0m\u001b[0;34m\u001b[0m\u001b[0m\n\u001b[1;32m     22\u001b[0m     \u001b[0;31m# Compute ROC curve and area the curve\u001b[0m\u001b[0;34m\u001b[0m\u001b[0;34m\u001b[0m\u001b[0m\n",
      "\u001b[0;32m/Library/Frameworks/Python.framework/Versions/3.5/lib/python3.5/site-packages/pandas/core/series.py\u001b[0m in \u001b[0;36m__getitem__\u001b[0;34m(self, key)\u001b[0m\n\u001b[1;32m    640\u001b[0m             \u001b[0mkey\u001b[0m \u001b[0;34m=\u001b[0m \u001b[0mcheck_bool_indexer\u001b[0m\u001b[0;34m(\u001b[0m\u001b[0mself\u001b[0m\u001b[0;34m.\u001b[0m\u001b[0mindex\u001b[0m\u001b[0;34m,\u001b[0m \u001b[0mkey\u001b[0m\u001b[0;34m)\u001b[0m\u001b[0;34m\u001b[0m\u001b[0m\n\u001b[1;32m    641\u001b[0m \u001b[0;34m\u001b[0m\u001b[0m\n\u001b[0;32m--> 642\u001b[0;31m         \u001b[0;32mreturn\u001b[0m \u001b[0mself\u001b[0m\u001b[0;34m.\u001b[0m\u001b[0m_get_with\u001b[0m\u001b[0;34m(\u001b[0m\u001b[0mkey\u001b[0m\u001b[0;34m)\u001b[0m\u001b[0;34m\u001b[0m\u001b[0m\n\u001b[0m\u001b[1;32m    643\u001b[0m \u001b[0;34m\u001b[0m\u001b[0m\n\u001b[1;32m    644\u001b[0m     \u001b[0;32mdef\u001b[0m \u001b[0m_get_with\u001b[0m\u001b[0;34m(\u001b[0m\u001b[0mself\u001b[0m\u001b[0;34m,\u001b[0m \u001b[0mkey\u001b[0m\u001b[0;34m)\u001b[0m\u001b[0;34m:\u001b[0m\u001b[0;34m\u001b[0m\u001b[0m\n",
      "\u001b[0;32m/Library/Frameworks/Python.framework/Versions/3.5/lib/python3.5/site-packages/pandas/core/series.py\u001b[0m in \u001b[0;36m_get_with\u001b[0;34m(self, key)\u001b[0m\n\u001b[1;32m    672\u001b[0m             \u001b[0;32mif\u001b[0m \u001b[0mkey_type\u001b[0m \u001b[0;34m==\u001b[0m \u001b[0;34m'integer'\u001b[0m\u001b[0;34m:\u001b[0m\u001b[0;34m\u001b[0m\u001b[0m\n\u001b[1;32m    673\u001b[0m                 \u001b[0;32mif\u001b[0m \u001b[0mself\u001b[0m\u001b[0;34m.\u001b[0m\u001b[0mindex\u001b[0m\u001b[0;34m.\u001b[0m\u001b[0mis_integer\u001b[0m\u001b[0;34m(\u001b[0m\u001b[0;34m)\u001b[0m \u001b[0;32mor\u001b[0m \u001b[0mself\u001b[0m\u001b[0;34m.\u001b[0m\u001b[0mindex\u001b[0m\u001b[0;34m.\u001b[0m\u001b[0mis_floating\u001b[0m\u001b[0;34m(\u001b[0m\u001b[0;34m)\u001b[0m\u001b[0;34m:\u001b[0m\u001b[0;34m\u001b[0m\u001b[0m\n\u001b[0;32m--> 674\u001b[0;31m                     \u001b[0;32mreturn\u001b[0m \u001b[0mself\u001b[0m\u001b[0;34m.\u001b[0m\u001b[0mreindex\u001b[0m\u001b[0;34m(\u001b[0m\u001b[0mkey\u001b[0m\u001b[0;34m)\u001b[0m\u001b[0;34m\u001b[0m\u001b[0m\n\u001b[0m\u001b[1;32m    675\u001b[0m                 \u001b[0;32melse\u001b[0m\u001b[0;34m:\u001b[0m\u001b[0;34m\u001b[0m\u001b[0m\n\u001b[1;32m    676\u001b[0m                     \u001b[0;32mreturn\u001b[0m \u001b[0mself\u001b[0m\u001b[0;34m.\u001b[0m\u001b[0m_get_values\u001b[0m\u001b[0;34m(\u001b[0m\u001b[0mkey\u001b[0m\u001b[0;34m)\u001b[0m\u001b[0;34m\u001b[0m\u001b[0m\n",
      "\u001b[0;32m/Library/Frameworks/Python.framework/Versions/3.5/lib/python3.5/site-packages/pandas/core/series.py\u001b[0m in \u001b[0;36mreindex\u001b[0;34m(self, index, **kwargs)\u001b[0m\n\u001b[1;32m   2358\u001b[0m     \u001b[0;34m@\u001b[0m\u001b[0mAppender\u001b[0m\u001b[0;34m(\u001b[0m\u001b[0mgeneric\u001b[0m\u001b[0;34m.\u001b[0m\u001b[0m_shared_docs\u001b[0m\u001b[0;34m[\u001b[0m\u001b[0;34m'reindex'\u001b[0m\u001b[0;34m]\u001b[0m \u001b[0;34m%\u001b[0m \u001b[0m_shared_doc_kwargs\u001b[0m\u001b[0;34m)\u001b[0m\u001b[0;34m\u001b[0m\u001b[0m\n\u001b[1;32m   2359\u001b[0m     \u001b[0;32mdef\u001b[0m \u001b[0mreindex\u001b[0m\u001b[0;34m(\u001b[0m\u001b[0mself\u001b[0m\u001b[0;34m,\u001b[0m \u001b[0mindex\u001b[0m\u001b[0;34m=\u001b[0m\u001b[0;32mNone\u001b[0m\u001b[0;34m,\u001b[0m \u001b[0;34m**\u001b[0m\u001b[0mkwargs\u001b[0m\u001b[0;34m)\u001b[0m\u001b[0;34m:\u001b[0m\u001b[0;34m\u001b[0m\u001b[0m\n\u001b[0;32m-> 2360\u001b[0;31m         \u001b[0;32mreturn\u001b[0m \u001b[0msuper\u001b[0m\u001b[0;34m(\u001b[0m\u001b[0mSeries\u001b[0m\u001b[0;34m,\u001b[0m \u001b[0mself\u001b[0m\u001b[0;34m)\u001b[0m\u001b[0;34m.\u001b[0m\u001b[0mreindex\u001b[0m\u001b[0;34m(\u001b[0m\u001b[0mindex\u001b[0m\u001b[0;34m=\u001b[0m\u001b[0mindex\u001b[0m\u001b[0;34m,\u001b[0m \u001b[0;34m**\u001b[0m\u001b[0mkwargs\u001b[0m\u001b[0;34m)\u001b[0m\u001b[0;34m\u001b[0m\u001b[0m\n\u001b[0m\u001b[1;32m   2361\u001b[0m \u001b[0;34m\u001b[0m\u001b[0m\n\u001b[1;32m   2362\u001b[0m     \u001b[0;34m@\u001b[0m\u001b[0mAppender\u001b[0m\u001b[0;34m(\u001b[0m\u001b[0mgeneric\u001b[0m\u001b[0;34m.\u001b[0m\u001b[0m_shared_docs\u001b[0m\u001b[0;34m[\u001b[0m\u001b[0;34m'fillna'\u001b[0m\u001b[0;34m]\u001b[0m \u001b[0;34m%\u001b[0m \u001b[0m_shared_doc_kwargs\u001b[0m\u001b[0;34m)\u001b[0m\u001b[0;34m\u001b[0m\u001b[0m\n",
      "\u001b[0;32m/Library/Frameworks/Python.framework/Versions/3.5/lib/python3.5/site-packages/pandas/core/generic.py\u001b[0m in \u001b[0;36mreindex\u001b[0;34m(self, *args, **kwargs)\u001b[0m\n\u001b[1;32m   2257\u001b[0m         \u001b[0;31m# perform the reindex on the axes\u001b[0m\u001b[0;34m\u001b[0m\u001b[0;34m\u001b[0m\u001b[0m\n\u001b[1;32m   2258\u001b[0m         return self._reindex_axes(axes, level, limit, tolerance, method,\n\u001b[0;32m-> 2259\u001b[0;31m                                   fill_value, copy).__finalize__(self)\n\u001b[0m\u001b[1;32m   2260\u001b[0m \u001b[0;34m\u001b[0m\u001b[0m\n\u001b[1;32m   2261\u001b[0m     def _reindex_axes(self, axes, level, limit, tolerance, method, fill_value,\n",
      "\u001b[0;32m/Library/Frameworks/Python.framework/Versions/3.5/lib/python3.5/site-packages/pandas/core/generic.py\u001b[0m in \u001b[0;36m_reindex_axes\u001b[0;34m(self, axes, level, limit, tolerance, method, fill_value, copy)\u001b[0m\n\u001b[1;32m   2275\u001b[0m             obj = obj._reindex_with_indexers({axis: [new_index, indexer]},\n\u001b[1;32m   2276\u001b[0m                                              \u001b[0mfill_value\u001b[0m\u001b[0;34m=\u001b[0m\u001b[0mfill_value\u001b[0m\u001b[0;34m,\u001b[0m\u001b[0;34m\u001b[0m\u001b[0m\n\u001b[0;32m-> 2277\u001b[0;31m                                              copy=copy, allow_dups=False)\n\u001b[0m\u001b[1;32m   2278\u001b[0m \u001b[0;34m\u001b[0m\u001b[0m\n\u001b[1;32m   2279\u001b[0m         \u001b[0;32mreturn\u001b[0m \u001b[0mobj\u001b[0m\u001b[0;34m\u001b[0m\u001b[0m\n",
      "\u001b[0;32m/Library/Frameworks/Python.framework/Versions/3.5/lib/python3.5/site-packages/pandas/core/generic.py\u001b[0m in \u001b[0;36m_reindex_with_indexers\u001b[0;34m(self, reindexers, fill_value, copy, allow_dups)\u001b[0m\n\u001b[1;32m   2369\u001b[0m                                                 \u001b[0mfill_value\u001b[0m\u001b[0;34m=\u001b[0m\u001b[0mfill_value\u001b[0m\u001b[0;34m,\u001b[0m\u001b[0;34m\u001b[0m\u001b[0m\n\u001b[1;32m   2370\u001b[0m                                                 \u001b[0mallow_dups\u001b[0m\u001b[0;34m=\u001b[0m\u001b[0mallow_dups\u001b[0m\u001b[0;34m,\u001b[0m\u001b[0;34m\u001b[0m\u001b[0m\n\u001b[0;32m-> 2371\u001b[0;31m                                                 copy=copy)\n\u001b[0m\u001b[1;32m   2372\u001b[0m \u001b[0;34m\u001b[0m\u001b[0m\n\u001b[1;32m   2373\u001b[0m         \u001b[0;32mif\u001b[0m \u001b[0mcopy\u001b[0m \u001b[0;32mand\u001b[0m \u001b[0mnew_data\u001b[0m \u001b[0;32mis\u001b[0m \u001b[0mself\u001b[0m\u001b[0;34m.\u001b[0m\u001b[0m_data\u001b[0m\u001b[0;34m:\u001b[0m\u001b[0;34m\u001b[0m\u001b[0m\n",
      "\u001b[0;32m/Library/Frameworks/Python.framework/Versions/3.5/lib/python3.5/site-packages/pandas/core/internals.py\u001b[0m in \u001b[0;36mreindex_indexer\u001b[0;34m(self, new_axis, indexer, axis, fill_value, allow_dups, copy)\u001b[0m\n\u001b[1;32m   3814\u001b[0m         \u001b[0;31m# some axes don't allow reindexing with dups\u001b[0m\u001b[0;34m\u001b[0m\u001b[0;34m\u001b[0m\u001b[0m\n\u001b[1;32m   3815\u001b[0m         \u001b[0;32mif\u001b[0m \u001b[0;32mnot\u001b[0m \u001b[0mallow_dups\u001b[0m\u001b[0;34m:\u001b[0m\u001b[0;34m\u001b[0m\u001b[0m\n\u001b[0;32m-> 3816\u001b[0;31m             \u001b[0mself\u001b[0m\u001b[0;34m.\u001b[0m\u001b[0maxes\u001b[0m\u001b[0;34m[\u001b[0m\u001b[0maxis\u001b[0m\u001b[0;34m]\u001b[0m\u001b[0;34m.\u001b[0m\u001b[0m_can_reindex\u001b[0m\u001b[0;34m(\u001b[0m\u001b[0mindexer\u001b[0m\u001b[0;34m)\u001b[0m\u001b[0;34m\u001b[0m\u001b[0m\n\u001b[0m\u001b[1;32m   3817\u001b[0m \u001b[0;34m\u001b[0m\u001b[0m\n\u001b[1;32m   3818\u001b[0m         \u001b[0;32mif\u001b[0m \u001b[0maxis\u001b[0m \u001b[0;34m>=\u001b[0m \u001b[0mself\u001b[0m\u001b[0;34m.\u001b[0m\u001b[0mndim\u001b[0m\u001b[0;34m:\u001b[0m\u001b[0;34m\u001b[0m\u001b[0m\n",
      "\u001b[0;32m/Library/Frameworks/Python.framework/Versions/3.5/lib/python3.5/site-packages/pandas/indexes/base.py\u001b[0m in \u001b[0;36m_can_reindex\u001b[0;34m(self, indexer)\u001b[0m\n\u001b[1;32m   2462\u001b[0m         \u001b[0;31m# trying to reindex on an axis with duplicates\u001b[0m\u001b[0;34m\u001b[0m\u001b[0;34m\u001b[0m\u001b[0m\n\u001b[1;32m   2463\u001b[0m         \u001b[0;32mif\u001b[0m \u001b[0;32mnot\u001b[0m \u001b[0mself\u001b[0m\u001b[0;34m.\u001b[0m\u001b[0mis_unique\u001b[0m \u001b[0;32mand\u001b[0m \u001b[0mlen\u001b[0m\u001b[0;34m(\u001b[0m\u001b[0mindexer\u001b[0m\u001b[0;34m)\u001b[0m\u001b[0;34m:\u001b[0m\u001b[0;34m\u001b[0m\u001b[0m\n\u001b[0;32m-> 2464\u001b[0;31m             \u001b[0;32mraise\u001b[0m \u001b[0mValueError\u001b[0m\u001b[0;34m(\u001b[0m\u001b[0;34m\"cannot reindex from a duplicate axis\"\u001b[0m\u001b[0;34m)\u001b[0m\u001b[0;34m\u001b[0m\u001b[0m\n\u001b[0m\u001b[1;32m   2465\u001b[0m \u001b[0;34m\u001b[0m\u001b[0m\n\u001b[1;32m   2466\u001b[0m     def reindex(self, target, method=None, level=None, limit=None,\n",
      "\u001b[0;31mValueError\u001b[0m: cannot reindex from a duplicate axis"
     ]
    }
   ],
   "source": [
    "from scipy import interp\n",
    "from itertools import cycle\n",
    "from sklearn.metrics import roc_curve, auc\n",
    "from sklearn.model_selection import StratifiedKFold\n",
    "\n",
    "\n",
    "# Run classifier with cross-validation and plot ROC curves\n",
    "cv = StratifiedKFold(n_splits=6)\n",
    "\n",
    "X, y = bowed_messages_12, df['label']\n",
    "\n",
    "mean_tpr = 0.0\n",
    "mean_fpr = np.linspace(0, 1, 100)\n",
    "\n",
    "colors = cycle(['cyan', 'indigo', 'seagreen', 'yellow', 'blue', 'darkorange'])\n",
    "lw = 2\n",
    "\n",
    "i = 0\n",
    "for (train, test), color in zip(cv.split(X, y), colors):\n",
    "    naive_12.fit(X[train], y[train])\n",
    "    probas_ = naive_12.predict_proba(X[test])\n",
    "    # Compute ROC curve and area the curve\n",
    "    fpr, tpr, thresholds = roc_curve(y[test], probas_[:, 1])\n",
    "    mean_tpr += interp(mean_fpr, fpr, tpr)\n",
    "    mean_tpr[0] = 0.0\n",
    "    roc_auc = auc(fpr, tpr)\n",
    "    plt.plot(fpr, tpr, lw=lw, color=color,\n",
    "             label='ROC fold %d (area = %0.2f)' % (i, roc_auc))\n",
    "\n",
    "    i += 1\n",
    "plt.plot([0, 1], [0, 1], linestyle='--', lw=lw, color='k',\n",
    "         label='Luck')\n",
    "\n",
    "mean_tpr /= cv.get_n_splits(X, y)\n",
    "mean_tpr[-1] = 1.0\n",
    "mean_auc = auc(mean_fpr, mean_tpr)\n",
    "plt.plot(mean_fpr, mean_tpr, color='g', linestyle='--',\n",
    "         label='Mean ROC (area = %0.2f)' % mean_auc, lw=lw)\n",
    "\n",
    "plt.xlim([-0.05, 1.05])\n",
    "plt.ylim([-0.05, 1.05])\n",
    "plt.xlabel('False Positive Rate')\n",
    "plt.ylabel('True Positive Rate')\n",
    "plt.title('Receiver operating characteristic example')\n",
    "plt.legend(loc=\"lower right\")\n",
    "plt.show()"
   ]
  },
  {
   "cell_type": "code",
   "execution_count": 149,
   "metadata": {
    "collapsed": false
   },
   "outputs": [
    {
     "name": "stdout",
     "output_type": "stream",
     "text": [
      "(1291,)\n",
      "(1292,)\n",
      "(1293,)\n",
      "(1293,)\n",
      "(1293,)\n",
      "(1293,)\n",
      "(1551, 3842)\n",
      "1551\n"
     ]
    }
   ],
   "source": [
    "for a, b in cv.split(X, y):\n",
    "    print(a.shape)\n",
    "\n",
    "print(X.shape)\n",
    "print(len(y))"
   ]
  },
  {
   "cell_type": "markdown",
   "metadata": {},
   "source": [
    "# 3\n",
    "А что, если в качестве предикторов брать не количество вхождений слов, а конструировать специальные признаки? Прежде всего, необходимо разделить таблицу на training set и test set в соотношении 80:20, test set не открывать до этапа оценки модели. С помощью pandas проверить, отличаются ли перечисленные ниже параметры (иможно придумать другие) для разных классов (spam/ham), и собрать матрицу признаков для обучения. Примеры признаков: длина сообщения, количество букв в ВЕРХНЕМ РЕГИСТРЕ, восклицательных знаков, цифр, запятых, каких-то конкретных слов (для этого можно построить частотный словарь по сообщениям каждого класса). Прокомментировать свой выбор. Векторизовать документы и построить классификатор. Оценить модель на проверочной выборке."
   ]
  },
  {
   "cell_type": "code",
   "execution_count": 116,
   "metadata": {
    "collapsed": false
   },
   "outputs": [
    {
     "data": {
      "text/html": [
       "<div>\n",
       "<table border=\"1\" class=\"dataframe\">\n",
       "  <thead>\n",
       "    <tr style=\"text-align: right;\">\n",
       "      <th></th>\n",
       "      <th>length</th>\n",
       "      <th>upper</th>\n",
       "      <th>exclaim</th>\n",
       "      <th>number</th>\n",
       "      <th>comma</th>\n",
       "      <th>buy</th>\n",
       "      <th>label</th>\n",
       "    </tr>\n",
       "  </thead>\n",
       "  <tbody>\n",
       "    <tr>\n",
       "      <th>0</th>\n",
       "      <td>129</td>\n",
       "      <td>7</td>\n",
       "      <td>0</td>\n",
       "      <td>0</td>\n",
       "      <td>0</td>\n",
       "      <td>0</td>\n",
       "      <td>ham</td>\n",
       "    </tr>\n",
       "    <tr>\n",
       "      <th>1</th>\n",
       "      <td>33</td>\n",
       "      <td>1</td>\n",
       "      <td>0</td>\n",
       "      <td>0</td>\n",
       "      <td>0</td>\n",
       "      <td>1</td>\n",
       "      <td>ham</td>\n",
       "    </tr>\n",
       "    <tr>\n",
       "      <th>2</th>\n",
       "      <td>150</td>\n",
       "      <td>31</td>\n",
       "      <td>0</td>\n",
       "      <td>23</td>\n",
       "      <td>0</td>\n",
       "      <td>0</td>\n",
       "      <td>spam</td>\n",
       "    </tr>\n",
       "    <tr>\n",
       "      <th>3</th>\n",
       "      <td>60</td>\n",
       "      <td>3</td>\n",
       "      <td>0</td>\n",
       "      <td>0</td>\n",
       "      <td>0</td>\n",
       "      <td>0</td>\n",
       "      <td>ham</td>\n",
       "    </tr>\n",
       "    <tr>\n",
       "      <th>4</th>\n",
       "      <td>173</td>\n",
       "      <td>8</td>\n",
       "      <td>0</td>\n",
       "      <td>33</td>\n",
       "      <td>1</td>\n",
       "      <td>0</td>\n",
       "      <td>spam</td>\n",
       "    </tr>\n",
       "    <tr>\n",
       "      <th>5</th>\n",
       "      <td>159</td>\n",
       "      <td>107</td>\n",
       "      <td>2</td>\n",
       "      <td>6</td>\n",
       "      <td>3</td>\n",
       "      <td>0</td>\n",
       "      <td>ham</td>\n",
       "    </tr>\n",
       "    <tr>\n",
       "      <th>6</th>\n",
       "      <td>136</td>\n",
       "      <td>14</td>\n",
       "      <td>1</td>\n",
       "      <td>8</td>\n",
       "      <td>0</td>\n",
       "      <td>0</td>\n",
       "      <td>spam</td>\n",
       "    </tr>\n",
       "    <tr>\n",
       "      <th>7</th>\n",
       "      <td>159</td>\n",
       "      <td>13</td>\n",
       "      <td>0</td>\n",
       "      <td>26</td>\n",
       "      <td>1</td>\n",
       "      <td>0</td>\n",
       "      <td>spam</td>\n",
       "    </tr>\n",
       "    <tr>\n",
       "      <th>8</th>\n",
       "      <td>63</td>\n",
       "      <td>3</td>\n",
       "      <td>0</td>\n",
       "      <td>0</td>\n",
       "      <td>0</td>\n",
       "      <td>0</td>\n",
       "      <td>ham</td>\n",
       "    </tr>\n",
       "    <tr>\n",
       "      <th>9</th>\n",
       "      <td>24</td>\n",
       "      <td>1</td>\n",
       "      <td>0</td>\n",
       "      <td>0</td>\n",
       "      <td>0</td>\n",
       "      <td>0</td>\n",
       "      <td>ham</td>\n",
       "    </tr>\n",
       "  </tbody>\n",
       "</table>\n",
       "</div>"
      ],
      "text/plain": [
       "   length  upper  exclaim  number  comma  buy label\n",
       "0     129      7        0       0      0    0   ham\n",
       "1      33      1        0       0      0    1   ham\n",
       "2     150     31        0      23      0    0  spam\n",
       "3      60      3        0       0      0    0   ham\n",
       "4     173      8        0      33      1    0  spam\n",
       "5     159    107        2       6      3    0   ham\n",
       "6     136     14        1       8      0    0  spam\n",
       "7     159     13        0      26      1    0  spam\n",
       "8      63      3        0       0      0    0   ham\n",
       "9      24      1        0       0      0    0   ham"
      ]
     },
     "execution_count": 116,
     "metadata": {},
     "output_type": "execute_result"
    }
   ],
   "source": [
    "RE_UPPER = re.compile('[A-Z]')\n",
    "RE_EXCL = re.compile('!')\n",
    "RE_NUMBER = re.compile('[0-9]')\n",
    "RE_COMMA = re.compile(',')\n",
    "RE_BUY = re.compile('[Bb]uy')\n",
    "\n",
    "\n",
    "length = [len(message) for message in df['message']]\n",
    "upper = [len(RE_UPPER.findall(message)) for message in df['message']]\n",
    "exclaim = [len(RE_EXCL.findall(message)) for message in df['message']]\n",
    "number = [len(RE_NUMBER.findall(message)) for message in df['message']]\n",
    "comma = [len(RE_COMMA.findall(message)) for message in df['message']]\n",
    "buy = [len(RE_BUY.findall(message)) for message in df['message']]\n",
    "\n",
    "new_df = pandas.DataFrame(columns=['length', 'upper', 'exclaim', 'number', 'comma', 'buy', 'label'])\n",
    "new_df['length'], new_df['upper'], new_df['exclaim'] = length, upper, exclaim\n",
    "new_df['number'], new_df['comma'], new_df['buy'] = number, comma, buy\n",
    "new_df['label'] = df['label'].tolist()\n",
    "new_df[:10]"
   ]
  },
  {
   "cell_type": "code",
   "execution_count": 133,
   "metadata": {
    "collapsed": false
   },
   "outputs": [
    {
     "data": {
      "image/png": "[encoded data removed]",
      "text/plain": [
       "<matplotlib.figure.Figure at 0x10b7d4208>"
      ]
     },
     "metadata": {},
     "output_type": "display_data"
    }
   ],
   "source": [
    "import matplotlib.pyplot as plt\n",
    "import matplotlib\n",
    "import seaborn as sns\n",
    "matplotlib.style.use('ggplot')\n",
    "\n",
    "fig, ax = plt.subplots()\n",
    "fig.set_size_inches(15, 10)\n",
    "plt.subplot(2,3,1)\n",
    "sns.boxplot(x='label', y='length', data=new_df)\n",
    "plt.subplot(2,3,2)\n",
    "sns.boxplot(x='label', y='upper', data=new_df)\n",
    "plt.subplot(2,3,3)\n",
    "sns.boxplot(x='label', y='exclaim', data=new_df)\n",
    "plt.subplot(2,3,4)\n",
    "sns.boxplot(x='label', y='number', data=new_df)\n",
    "plt.subplot(2,3,5)\n",
    "sns.boxplot(x='label', y='comma', data=new_df)\n",
    "plt.subplot(2,3,6)\n",
    "sns.boxplot(x='label', y='buy', data=new_df)\n",
    "plt.show()"
   ]
  },
  {
   "cell_type": "markdown",
   "metadata": {},
   "source": [
    "Нуууу дааа, спам в среднем длиннее, в нем больше капса, восклицательных знаков, цифр и запятых. Слово 'buy' встречается редко :(\n",
    "\n",
    "Построим для этих данных Logit."
   ]
  },
  {
   "cell_type": "code",
   "execution_count": 138,
   "metadata": {
    "collapsed": false
   },
   "outputs": [
    {
     "name": "stdout",
     "output_type": "stream",
     "text": [
      "[[676  83]\n",
      " [ 22 770]]\n",
      "             precision    recall  f1-score   support\n",
      "\n",
      "        ham       0.97      0.89      0.93       759\n",
      "       spam       0.90      0.97      0.94       792\n",
      "\n",
      "avg / total       0.93      0.93      0.93      1551\n",
      "\n"
     ]
    }
   ],
   "source": [
    "from sklearn.linear_model import LogisticRegression\n",
    "from sklearn.model_selection import cross_val_score\n",
    "\n",
    "\n",
    "logit = LogisticRegression(class_weight='balanced')\n",
    "y_pred_new = cross_val_predict(logit, new_df[['length', 'upper', 'exclaim', 'number', 'comma', 'buy']],\n",
    "                               new_df['label'], cv=10)\n",
    "print(confusion_matrix(y_pred_new, new_df['label']))\n",
    "print(classification_report(y_pred_new, new_df['label']))"
   ]
  },
  {
   "cell_type": "markdown",
   "metadata": {},
   "source": [
    "А неплохо работает. Но все равно хуже наших прошлых моделей."
   ]
  }
 ],
 "metadata": {
  "kernelspec": {
   "display_name": "Python 3",
   "language": "python",
   "name": "python3"
  },
  "language_info": {
   "codemirror_mode": {
    "name": "ipython",
    "version": 3
   },
   "file_extension": ".py",
   "mimetype": "text/x-python",
   "name": "python",
   "nbconvert_exporter": "python",
   "pygments_lexer": "ipython3",
   "version": "3.5.2"
  }
 },
 "nbformat": 4,
 "nbformat_minor": 0
}
