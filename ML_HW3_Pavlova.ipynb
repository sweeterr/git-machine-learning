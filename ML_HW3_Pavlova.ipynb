{
 "cells": [
  {
   "cell_type": "markdown",
   "metadata": {},
   "source": [
    "Возьмем датасет с блогами. Достанем оттуда индекс, пол, возраст, текст сообщения и примерную длину сообщения. В каждом документе датасета несколько записей одного автора – возьмем самую длинную из них. Выберем такие блоги, где примерная длина – от 500 до 750 слов. Наберем таким образом 3000 записей."
   ]
  },
  {
   "cell_type": "code",
   "execution_count": 89,
   "metadata": {
    "collapsed": false
   },
   "outputs": [
    {
     "name": "stdout",
     "output_type": "stream",
     "text": [
      "            sex   age                                               text  \\\n",
      "id                                                                         \n",
      "1005545    male  25.0  \\n\\n\\t \\n        Cell Phone company Thinks out...   \n",
      "100812   female  26.0  \\n\\n\\n\\n\\n       \\n\\n       Friday    My dear ...   \n",
      "1019224  female  27.0  \\n\\n\\t \\n       Associated Press   Dallas - Th...   \n",
      "1026443  female  15.0  \\n\\n    \\n       Hello hello hello again. It's...   \n",
      "1028257    male  26.0  \\n\\n\\n       \\n      Friday evening was a grea...   \n",
      "\n",
      "         length  \n",
      "id               \n",
      "1005545   596.0  \n",
      "100812    735.0  \n",
      "1019224   592.0  \n",
      "1026443   729.0  \n",
      "1028257   565.0  \n",
      "               age       length\n",
      "count  3000.000000  3000.000000\n",
      "mean     23.042000   616.815333\n",
      "std       7.817924    73.176646\n",
      "min      13.000000   500.000000\n",
      "25%      16.000000   551.000000\n",
      "50%      23.000000   613.000000\n",
      "75%      26.000000   681.000000\n",
      "max      48.000000   750.000000\n"
     ]
    }
   ],
   "source": [
    "import os\n",
    "import pandas\n",
    "import re\n",
    "\n",
    "\n",
    "RE_TEXT = re.compile('<post>(.+?)</post>', flags=re.DOTALL)\n",
    "\n",
    "\n",
    "data = pandas.DataFrame(columns=['id', 'sex', 'age', 'text', 'length'])\n",
    "\n",
    "\n",
    "for root, dirs, files in os.walk('blogs'):\n",
    "    for file_name in files:\n",
    "        if file_name.endswith('.xml'):\n",
    "            file_path = os.path.join(root, file_name)\n",
    "            i, sex, age, industry, sign = file_name[:-4].split('.')\n",
    "            with open(file_path, 'r', encoding='utf-8') as f:\n",
    "                try:\n",
    "                    texts = RE_TEXT.findall(f.read())\n",
    "                    longest = max(texts, key=len)\n",
    "                    words = longest.split()\n",
    "                    if len(words) < 500 or len(words) > 750:\n",
    "                        continue\n",
    "                    data.loc[len(data)]=[i, sex, int(age), longest, len(words)]             \n",
    "                    if len(data) == 3000:\n",
    "                        break\n",
    "                except UnicodeDecodeError:\n",
    "                    continue\n",
    "                \n",
    "data.set_index(['id'], inplace=True)        \n",
    "print(data.head())\n",
    "print(data.describe())\n",
    "            "
   ]
  },
  {
   "cell_type": "markdown",
   "metadata": {},
   "source": [
    "Заменим пол на бинарную переменную."
   ]
  },
  {
   "cell_type": "code",
   "execution_count": 93,
   "metadata": {
    "collapsed": false
   },
   "outputs": [
    {
     "data": {
      "text/html": [
       "<div>\n",
       "<table border=\"1\" class=\"dataframe\">\n",
       "  <thead>\n",
       "    <tr style=\"text-align: right;\">\n",
       "      <th></th>\n",
       "      <th>age</th>\n",
       "      <th>text</th>\n",
       "      <th>length</th>\n",
       "      <th>male</th>\n",
       "    </tr>\n",
       "    <tr>\n",
       "      <th>id</th>\n",
       "      <th></th>\n",
       "      <th></th>\n",
       "      <th></th>\n",
       "      <th></th>\n",
       "    </tr>\n",
       "  </thead>\n",
       "  <tbody>\n",
       "    <tr>\n",
       "      <th>1005545</th>\n",
       "      <td>25.0</td>\n",
       "      <td>\\n\\n\\t \\n        Cell Phone company Thinks out...</td>\n",
       "      <td>596.0</td>\n",
       "      <td>1</td>\n",
       "    </tr>\n",
       "    <tr>\n",
       "      <th>100812</th>\n",
       "      <td>26.0</td>\n",
       "      <td>\\n\\n\\n\\n\\n       \\n\\n       Friday    My dear ...</td>\n",
       "      <td>735.0</td>\n",
       "      <td>0</td>\n",
       "    </tr>\n",
       "    <tr>\n",
       "      <th>1019224</th>\n",
       "      <td>27.0</td>\n",
       "      <td>\\n\\n\\t \\n       Associated Press   Dallas - Th...</td>\n",
       "      <td>592.0</td>\n",
       "      <td>0</td>\n",
       "    </tr>\n",
       "    <tr>\n",
       "      <th>1026443</th>\n",
       "      <td>15.0</td>\n",
       "      <td>\\n\\n    \\n       Hello hello hello again. It's...</td>\n",
       "      <td>729.0</td>\n",
       "      <td>0</td>\n",
       "    </tr>\n",
       "    <tr>\n",
       "      <th>1028257</th>\n",
       "      <td>26.0</td>\n",
       "      <td>\\n\\n\\n       \\n      Friday evening was a grea...</td>\n",
       "      <td>565.0</td>\n",
       "      <td>1</td>\n",
       "    </tr>\n",
       "  </tbody>\n",
       "</table>\n",
       "</div>"
      ],
      "text/plain": [
       "          age                                               text  length  male\n",
       "id                                                                            \n",
       "1005545  25.0  \\n\\n\\t \\n        Cell Phone company Thinks out...   596.0     1\n",
       "100812   26.0  \\n\\n\\n\\n\\n       \\n\\n       Friday    My dear ...   735.0     0\n",
       "1019224  27.0  \\n\\n\\t \\n       Associated Press   Dallas - Th...   592.0     0\n",
       "1026443  15.0  \\n\\n    \\n       Hello hello hello again. It's...   729.0     0\n",
       "1028257  26.0  \\n\\n\\n       \\n      Friday evening was a grea...   565.0     1"
      ]
     },
     "execution_count": 93,
     "metadata": {},
     "output_type": "execute_result"
    }
   ],
   "source": [
    "new_sex = pandas.get_dummies(data['sex'], drop_first=True)\n",
    "new_df = pandas.concat([data, new_sex], axis = 1)\n",
    "new_df.drop(['sex'], axis=1, inplace=True)\n",
    "new_df.head()"
   ]
  },
  {
   "cell_type": "markdown",
   "metadata": {},
   "source": [
    "Посмотрим, какие у нас получились значения и сбалансирована ли выборка."
   ]
  },
  {
   "cell_type": "code",
   "execution_count": 94,
   "metadata": {
    "collapsed": false
   },
   "outputs": [
    {
     "data": {
      "text/plain": [
       "<matplotlib.text.Text at 0x12ba71be0>"
      ]
     },
     "execution_count": 94,
     "metadata": {},
     "output_type": "execute_result"
    }
   ],
   "source": [
    "import matplotlib.pyplot as plt\n",
    "import matplotlib\n",
    "import seaborn as sns\n",
    "matplotlib.style.use('ggplot')\n",
    "\n",
    "\n",
    "plt.subplot(1,3,1)\n",
    "new_df.groupby('male').size().plot(kind='bar', figsize=(15,5))\n",
    "plt.subplot(1,3,2)\n",
    "new_df['age'].plot(kind='hist', bins=10).set_xlabel('age')\n",
    "plt.subplot(1,3,3)\n",
    "new_df['length'].plot(kind='hist', bins=10).set_xlabel('length')"
   ]
  },
  {
   "cell_type": "code",
   "execution_count": 95,
   "metadata": {
    "collapsed": false
   },
   "outputs": [
    {
     "data": {
      "image/png": "[encoded data removed]",
      "text/plain": [
       "<matplotlib.figure.Figure at 0x12a4afda0>"
      ]
     },
     "metadata": {},
     "output_type": "display_data"
    }
   ],
   "source": [
    "plt.show()"
   ]
  },
  {
   "cell_type": "markdown",
   "metadata": {},
   "source": [
    "По полу выборка сбалансирована, по длинне текстов – более или менее, по возрасту полный раздрай. Но в описании датасета указано, что выборка сбалансирована по трем интервалам возрастов – teens, 20-somethings, 30-somethings. Понадеемся, что в нашей выборке этот баланс сохранился и поделим ее на три квантиля. Длину поделим на квантили, чтобы было удобнее смотреть на взаимодействие с возрастом и полом."
   ]
  },
  {
   "cell_type": "code",
   "execution_count": 96,
   "metadata": {
    "collapsed": false
   },
   "outputs": [
    {
     "name": "stdout",
     "output_type": "stream",
     "text": [
      "            sex age                                               text length\n",
      "id                                                                           \n",
      "1005545    male   1  \\n\\n\\t \\n        Cell Phone company Thinks out...      1\n",
      "100812   female   2  \\n\\n\\n\\n\\n       \\n\\n       Friday    My dear ...      2\n",
      "1019224  female   2  \\n\\n\\t \\n       Associated Press   Dallas - Th...      1\n",
      "1026443  female   0  \\n\\n    \\n       Hello hello hello again. It's...      2\n",
      "1028257    male   2  \\n\\n\\n       \\n      Friday evening was a grea...      0\n"
     ]
    }
   ],
   "source": [
    "data['age'] = pandas.qcut(data['age'], 3, labels=[0, 1, 2])\n",
    "data['length'] = pandas.qcut(data['length'], 3, labels=[0, 1, 2])\n",
    "print(data.head())"
   ]
  },
  {
   "cell_type": "code",
   "execution_count": 97,
   "metadata": {
    "collapsed": false
   },
   "outputs": [
    {
     "data": {
      "image/png": "[encoded data removed]",
      "text/plain": [
       "<matplotlib.figure.Figure at 0x13e1edcc0>"
      ]
     },
     "metadata": {},
     "output_type": "display_data"
    }
   ],
   "source": [
    "fig, ax = plt.subplots()\n",
    "fig.set_size_inches(15, 5)\n",
    "plt.subplot(1,3,1)\n",
    "sns.countplot(x='age', hue='sex', data=data)\n",
    "plt.subplot(1,3,2)\n",
    "sns.countplot(x='length', hue='sex', data=data)\n",
    "plt.subplot(1,3,3)\n",
    "sns.countplot(x='age', hue='length', data=data)\n",
    "plt.show()"
   ]
  },
  {
   "cell_type": "markdown",
   "metadata": {},
   "source": [
    "Не совсем понимаю, как в первом квантиле по возрасту получилось больше народу (они вроде по определению должны быть одинаковые?). Но в общем и целом выборка более или менее сбалансирована – в каждой группе как минимум 250 текстов. Какое-то взаимодйствие можно предположить только с возрастом: там в более молодой группе преобладают короткие тексты, а в старших – средние и длинные. Хотя разница не сказать, что большая.\n",
    "\n",
    "# Лемматизатор"
   ]
  },
  {
   "cell_type": "code",
   "execution_count": 98,
   "metadata": {
    "collapsed": false
   },
   "outputs": [
    {
     "data": {
      "text/plain": [
       "['cell',\n",
       " 'phone',\n",
       " 'company',\n",
       " 'think',\n",
       " 'box',\n",
       " 'urllink',\n",
       " 'news.com',\n",
       " 'report',\n",
       " 'manila',\n",
       " 'philippine']"
      ]
     },
     "execution_count": 98,
     "metadata": {},
     "output_type": "execute_result"
    }
   ],
   "source": [
    "from nltk import word_tokenize, pos_tag\n",
    "from nltk.corpus import stopwords\n",
    "from nltk.stem import WordNetLemmatizer\n",
    "from nltk.corpus import wordnet\n",
    "\n",
    "\n",
    "wordnet_lemmatizer = WordNetLemmatizer()\n",
    "stopwords = set(stopwords.words('english'))\n",
    "\n",
    "text = data['text'].iloc[0]\n",
    "\n",
    "def lemmatizer(string):\n",
    "    words_pos = pos_tag(word_tokenize(string.lower()))\n",
    "    words = [word for word in words_pos if word[0] not in '.,:;()!?-–\"@#$%^&*+=[]{}\\'']\n",
    "    words = [(word[0].strip(\"'\"), word[1]) for word in words]\n",
    "    words = [(word[0], word[1]) for word in words if len(word[0]) > 1 and word[0] not in stopwords]\n",
    "    words = [wordnet_lemmatizer.lemmatize(word[0], pos=get_wordnet_pos(word[1])) for word in words]\n",
    "    return words\n",
    "    \n",
    "\n",
    "def get_wordnet_pos(treebank_tag):\n",
    "    if treebank_tag.startswith('J'):\n",
    "        return wordnet.ADJ\n",
    "    elif treebank_tag.startswith('V'):\n",
    "        return wordnet.VERB\n",
    "    elif treebank_tag.startswith('N'):\n",
    "        return wordnet.NOUN\n",
    "    elif treebank_tag.startswith('R'):\n",
    "        return wordnet.ADV\n",
    "    else:\n",
    "        return wordnet.NOUN   \n",
    "\n",
    "lemmatizer(text)[:10]"
   ]
  },
  {
   "cell_type": "markdown",
   "metadata": {},
   "source": [
    "# CountVectorizer\n",
    "\n",
    "Построим матрицу на биграммах. Возможно, бессмысленное занятие, но на триграммы/части речи времени уже нет. (На триграммах Random Forest работал больше часа, после чего я решила его пожалеть.)"
   ]
  },
  {
   "cell_type": "code",
   "execution_count": 99,
   "metadata": {
    "collapsed": true
   },
   "outputs": [],
   "source": [
    "from sklearn.model_selection import train_test_split\n",
    "from sklearn.feature_extraction.text import CountVectorizer\n",
    "from sklearn.naive_bayes import MultinomialNB\n",
    "from sklearn.ensemble import RandomForestClassifier\n",
    "from sklearn.linear_model import LogisticRegression\n",
    "from sklearn import metrics\n",
    "from sklearn.model_selection import cross_val_score\n",
    "\n",
    "\n",
    "bow = CountVectorizer(tokenizer=lemmatizer, ngram_range=(2, 2), min_df=1)\n",
    "bowed_text = bow.fit_transform(new_df['text'])\n",
    "\n",
    "X_train, X_test, y_train, y_test = train_test_split(bowed_text, new_df['male'], test_size=0.2)"
   ]
  },
  {
   "cell_type": "markdown",
   "metadata": {},
   "source": [
    "### Naive Bayes"
   ]
  },
  {
   "cell_type": "code",
   "execution_count": 100,
   "metadata": {
    "collapsed": false
   },
   "outputs": [
    {
     "name": "stdout",
     "output_type": "stream",
     "text": [
      "Accuracy mean = 0.6066771992569315, sd = 0.021866522289392006\n",
      "F1 mean = 0.5765165417948799, sd = 0.026017427801148248\n"
     ]
    }
   ],
   "source": [
    "naive = MultinomialNB()\n",
    "\n",
    "cv_results = cross_val_score(naive, X_train, y_train, cv=10, scoring='accuracy')\n",
    "print('Accuracy mean = {}, sd = {}'.format(cv_results.mean(), cv_results.std()))\n",
    "cv_results = cross_val_score(naive, X_train, y_train, cv=10, scoring='f1_weighted')\n",
    "print('F1 mean = {}, sd = {}'.format(cv_results.mean(), cv_results.std()))"
   ]
  },
  {
   "cell_type": "markdown",
   "metadata": {},
   "source": [
    "Плохо."
   ]
  },
  {
   "cell_type": "markdown",
   "metadata": {},
   "source": [
    "### Random Forest"
   ]
  },
  {
   "cell_type": "code",
   "execution_count": 101,
   "metadata": {
    "collapsed": false
   },
   "outputs": [
    {
     "name": "stdout",
     "output_type": "stream",
     "text": [
      "Accuracy mean = 0.5774787756731887, sd = 0.021602019142936277\n",
      "F1 mean = 0.5633708974290188, sd = 0.03378451997522899\n"
     ]
    }
   ],
   "source": [
    "forest = RandomForestClassifier(n_estimators=50)\n",
    "\n",
    "cv_results = cross_val_score(forest, X_train, y_train, cv=10, scoring='accuracy')\n",
    "print('Accuracy mean = {}, sd = {}'.format(cv_results.mean(), cv_results.std()))\n",
    "cv_results = cross_val_score(forest, X_train, y_train, cv=10, scoring='f1_weighted')\n",
    "print('F1 mean = {}, sd = {}'.format(cv_results.mean(), cv_results.std()))"
   ]
  },
  {
   "cell_type": "markdown",
   "metadata": {},
   "source": [
    "Еще хуже. (А можно как-то сделать, чтобы cross_val_score считал сразу по двум метрикам – как здесь, по accuracy и F-мере? А то этот повтор увеличивает время работы в два раза :( )"
   ]
  },
  {
   "cell_type": "markdown",
   "metadata": {},
   "source": [
    "### Logit"
   ]
  },
  {
   "cell_type": "code",
   "execution_count": 102,
   "metadata": {
    "collapsed": false
   },
   "outputs": [
    {
     "name": "stdout",
     "output_type": "stream",
     "text": [
      "Accuracy mean = 0.619979513533221, sd = 0.023213228911638496\n",
      "F1 mean = 0.6186407627692599, sd = 0.022614453197139152\n"
     ]
    }
   ],
   "source": [
    "logit = LogisticRegression(class_weight='balanced')\n",
    "\n",
    "cv_results = cross_val_score(logit, X_train, y_train, cv=10, scoring='accuracy')\n",
    "print('Accuracy mean = {}, sd = {}'.format(cv_results.mean(), cv_results.std()))\n",
    "cv_results = cross_val_score(logit, X_train, y_train, cv=10, scoring='f1_weighted')\n",
    "print('F1 mean = {}, sd = {}'.format(cv_results.mean(), cv_results.std()))"
   ]
  },
  {
   "cell_type": "markdown",
   "metadata": {},
   "source": [
    "Совсем чуть-чуть получше."
   ]
  },
  {
   "cell_type": "markdown",
   "metadata": {},
   "source": [
    "### Logit на длине и возрасте для прикола"
   ]
  },
  {
   "cell_type": "code",
   "execution_count": 104,
   "metadata": {
    "collapsed": false
   },
   "outputs": [
    {
     "name": "stdout",
     "output_type": "stream",
     "text": [
      "Accuracy mean = 0.4799666660879529, sd = 0.03127053186860115\n",
      "F1 mean = 0.4786662904828599, sd = 0.031230864248837562\n"
     ]
    }
   ],
   "source": [
    "X_train1, X_test1, y_train1, y_test1 = train_test_split(new_df[['age', 'length']], new_df['male'], test_size=0.2)\n",
    "\n",
    "logit1 = LogisticRegression(class_weight='balanced')\n",
    "\n",
    "cv_results = cross_val_score(logit1, X_train1, y_train1, cv=10, scoring='accuracy')\n",
    "print('Accuracy mean = {}, sd = {}'.format(cv_results.mean(), cv_results.std()))\n",
    "cv_results = cross_val_score(logit1, X_train1, y_train1, cv=10, scoring='f1_weighted')\n",
    "print('F1 mean = {}, sd = {}'.format(cv_results.mean(), cv_results.std()))"
   ]
  },
  {
   "cell_type": "markdown",
   "metadata": {},
   "source": [
    "Отвратительно. Больше такой штуки делать не будем."
   ]
  },
  {
   "cell_type": "markdown",
   "metadata": {},
   "source": [
    "Теперь всё то же самое сделаем для TfidfVectorizer."
   ]
  },
  {
   "cell_type": "markdown",
   "metadata": {},
   "source": [
    "# TfidfVectorizer"
   ]
  },
  {
   "cell_type": "code",
   "execution_count": 107,
   "metadata": {
    "collapsed": false
   },
   "outputs": [
    {
     "name": "stdout",
     "output_type": "stream",
     "text": [
      "Accuracy mean = 0.5616532405076476, sd = 0.02054715393769805\n",
      "F1 mean = 0.473646864287554, sd = 0.032314244339484335\n",
      "Accuracy mean = 0.5774606981023978, sd = 0.04076940953917924\n",
      "F1 mean = 0.5897756449714344, sd = 0.026110152158939744\n",
      "Accuracy mean = 0.6329002601318312, sd = 0.03139683274084398\n",
      "F1 mean = 0.6321817027761896, sd = 0.03134828721077613\n"
     ]
    }
   ],
   "source": [
    "from sklearn.feature_extraction.text import TfidfVectorizer\n",
    "\n",
    "\n",
    "bow = TfidfVectorizer(tokenizer=lemmatizer, ngram_range=(2, 2), min_df=1)\n",
    "bowed_text = bow.fit_transform(new_df['text'])\n",
    "\n",
    "X_train, X_test, y_train, y_test = train_test_split(bowed_text, new_df['male'], test_size=0.2)\n",
    "\n",
    "naive = MultinomialNB()\n",
    "\n",
    "cv_results = cross_val_score(naive, X_train, y_train, cv=10, scoring='accuracy')\n",
    "print('Accuracy mean = {}, sd = {}'.format(cv_results.mean(), cv_results.std()))\n",
    "cv_results = cross_val_score(naive, X_train, y_train, cv=10, scoring='f1_weighted')\n",
    "print('F1 mean = {}, sd = {}'.format(cv_results.mean(), cv_results.std()))\n",
    "\n",
    "forest = RandomForestClassifier(n_estimators=50)\n",
    "\n",
    "cv_results = cross_val_score(forest, X_train, y_train, cv=10, scoring='accuracy')\n",
    "print('Accuracy mean = {}, sd = {}'.format(cv_results.mean(), cv_results.std()))\n",
    "cv_results = cross_val_score(forest, X_train, y_train, cv=10, scoring='f1_weighted')\n",
    "print('F1 mean = {}, sd = {}'.format(cv_results.mean(), cv_results.std()))\n",
    "\n",
    "logit = LogisticRegression(class_weight='balanced')\n",
    "\n",
    "cv_results = cross_val_score(logit, X_train, y_train, cv=10, scoring='accuracy')\n",
    "print('Accuracy mean = {}, sd = {}'.format(cv_results.mean(), cv_results.std()))\n",
    "cv_results = cross_val_score(logit, X_train, y_train, cv=10, scoring='f1_weighted')\n",
    "print('F1 mean = {}, sd = {}'.format(cv_results.mean(), cv_results.std()))"
   ]
  },
  {
   "cell_type": "markdown",
   "metadata": {},
   "source": [
    "Лучшую F-меру дала модель Logit на TfidfVectorizer (Accuracy mean = 0.63, F1 mean = 0.63), поэтому протестируем на ней тестовую выборку."
   ]
  },
  {
   "cell_type": "markdown",
   "metadata": {},
   "source": [
    "# Тестирование"
   ]
  },
  {
   "cell_type": "code",
   "execution_count": 108,
   "metadata": {
    "collapsed": false
   },
   "outputs": [
    {
     "name": "stdout",
     "output_type": "stream",
     "text": [
      "             precision    recall  f1-score   support\n",
      "\n",
      "          0       0.67      0.55      0.60       307\n",
      "          1       0.60      0.72      0.66       293\n",
      "\n",
      "avg / total       0.64      0.63      0.63       600\n",
      "\n"
     ]
    }
   ],
   "source": [
    "logit.fit(X_train, y_train)\n",
    "y = logit.predict(X_test)\n",
    "print(metrics.classification_report(y_test, y))"
   ]
  },
  {
   "cell_type": "markdown",
   "metadata": {},
   "source": [
    "Те же самые 63%. У женщин немного больше точность, у мужчин – полнота. В целом чуть-чуть лучше определяются мужчины (66% против 60%)."
   ]
  },
  {
   "cell_type": "code",
   "execution_count": null,
   "metadata": {
    "collapsed": true
   },
   "outputs": [],
   "source": []
  }
 ],
 "metadata": {
  "kernelspec": {
   "display_name": "Python 3",
   "language": "python",
   "name": "python3"
  },
  "language_info": {
   "codemirror_mode": {
    "name": "ipython",
    "version": 3
   },
   "file_extension": ".py",
   "mimetype": "text/x-python",
   "name": "python",
   "nbconvert_exporter": "python",
   "pygments_lexer": "ipython3",
   "version": "3.5.2"
  }
 },
 "nbformat": 4,
 "nbformat_minor": 0
}
